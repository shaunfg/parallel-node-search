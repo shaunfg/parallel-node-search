{
 "cells": [
  {
   "cell_type": "code",
   "execution_count": 30,
   "metadata": {},
   "outputs": [
    {
     "name": "stderr",
     "output_type": "stream",
     "text": [
      "WARNING: replacing module tree_functions.\n"
     ]
    }
   ],
   "source": [
    "include(\"tree.jl\")\n",
    "using JuMP, Gurobi, MLJBase"
   ]
  },
  {
   "cell_type": "code",
   "execution_count": 141,
   "metadata": {},
   "outputs": [
    {
     "name": "stderr",
     "output_type": "stream",
     "text": [
      "┌ Info: Precompiling MLJBase [a7f614a8-145f-11e9-1d2a-a57a1082229d]\n",
      "└ @ Base loading.jl:1278\n"
     ]
    }
   ],
   "source": [
    "using MLJBase"
   ]
  },
  {
   "cell_type": "code",
   "execution_count": 81,
   "metadata": {},
   "outputs": [
    {
     "name": "stderr",
     "output_type": "stream",
     "text": [
      "WARNING: replacing module tree_functions.\n"
     ]
    },
    {
     "data": {
      "text/plain": [
       "Main.tree_functions"
      ]
     },
     "execution_count": 81,
     "metadata": {},
     "output_type": "execute_result"
    }
   ],
   "source": [
    "module tree_functions\n",
    "    struct Tree\n",
    "        nodes\n",
    "        branches\n",
    "        leaves\n",
    "    end\n",
    "\n",
    "    N_nodes(D::Int) = 2^(D+1) - 1\n",
    "    N_branch(D::Int) = Int(floor(N_nodes(D::Int)/2))\n",
    "\n",
    "    get_left(node) = 2*node\n",
    "    get_right(node) =  2*node + 1\n",
    "    get_parent(node) = Int(floor(node/2))\n",
    "\n",
    "    function get_tree(depth::Int)\n",
    "        nodes = collect(1:N_nodes(depth))\n",
    "        branches = collect(1:N_branch(depth))\n",
    "        leaves = collect(N_branch(depth)+1:N_nodes(depth))\n",
    "        return Tree(nodes,branches,leaves)\n",
    "    end\n",
    "end  # module tree_functions"
   ]
  },
  {
   "cell_type": "code",
   "execution_count": 180,
   "metadata": {},
   "outputs": [
    {
     "data": {
      "text/plain": [
       "y_mat (generic function with 1 method)"
      ]
     },
     "execution_count": 180,
     "metadata": {},
     "output_type": "execute_result"
    }
   ],
   "source": [
    "#matrix for y_ik, converts categorical variables into factor ints\n",
    "function y_mat(y)\n",
    "    n = length(y)\n",
    "    y_class = int(categorical(y),type=Int)\n",
    "    Y = zeros(n,k)\n",
    "    for i in 1:n, k in y_class\n",
    "        if y_class[i] == k\n",
    "            Y[i,k] = 1\n",
    "        end\n",
    "    end\n",
    "    return(Y)\n",
    "end         "
   ]
  },
  {
   "cell_type": "code",
   "execution_count": null,
   "metadata": {},
   "outputs": [],
   "source": []
  },
  {
   "cell_type": "code",
   "execution_count": 181,
   "metadata": {},
   "outputs": [
    {
     "name": "stdout",
     "output_type": "stream",
     "text": [
      "Academic license - for non-commercial use only - expires 2021-01-18\n"
     ]
    },
    {
     "ename": "LoadError",
     "evalue": "LoadError: At In[181]:28: `@constraint(model, [t = tree.leaves, k = 1:K])`: Constraints must be in one of the following forms:\n       expr1 <= expr2\n       expr1 >= expr2\n       expr1 == expr2\n       lb <= expr <= ub\nin expression starting at In[181]:28",
     "output_type": "error",
     "traceback": [
      "LoadError: At In[181]:28: `@constraint(model, [t = tree.leaves, k = 1:K])`: Constraints must be in one of the following forms:\n       expr1 <= expr2\n       expr1 >= expr2\n       expr1 == expr2\n       lb <= expr <= ub\nin expression starting at In[181]:28",
      "",
      "Stacktrace:",
      " [1] error(::String, ::String) at ./error.jl:42",
      " [2] _macro_error(::Symbol, ::Array{Any,1}, ::LineNumberNode, ::String) at /Users/arkiratanglertsumpun/.julia/packages/JuMP/qhoVb/src/macros.jl:924",
      " [3] (::JuMP.var\"#_error#73\"{Symbol,LineNumberNode})(::String) at /Users/arkiratanglertsumpun/.julia/packages/JuMP/qhoVb/src/macros.jl:390",
      " [4] _unknown_constraint_expr(::JuMP.var\"#_error#73\"{Symbol,LineNumberNode}) at /Users/arkiratanglertsumpun/.julia/packages/JuMP/qhoVb/src/macros.jl:246",
      " [5] parse_constraint_head(::Function, ::Val{:vect}, ::Expr, ::Expr) at /Users/arkiratanglertsumpun/.julia/packages/JuMP/qhoVb/src/macros.jl:252",
      " [6] parse_constraint_expr at /Users/arkiratanglertsumpun/.julia/packages/JuMP/qhoVb/src/macros.jl:196 [inlined]",
      " [7] _constraint_macro(::Tuple{Symbol,Expr,Expr}, ::Symbol, ::typeof(parse_constraint_expr), ::LineNumberNode) at /Users/arkiratanglertsumpun/.julia/packages/JuMP/qhoVb/src/macros.jl:431",
      " [8] @constraint(::LineNumberNode, ::Module, ::Vararg{Any,N} where N) at /Users/arkiratanglertsumpun/.julia/packages/JuMP/qhoVb/src/macros.jl:514",
      " [9] include_string(::Function, ::Module, ::String, ::String) at ./loading.jl:1091"
     ]
    }
   ],
   "source": [
    "#----\n",
    "\"\"\"\n",
    "Nₖₜ: # of label k in node t\n",
    "\n",
    "\"\"\"\n",
    "#----\n",
    "n = 1 #\n",
    "K = 1 # number of labels k\n",
    "p = 1 # number of rows of observed x\n",
    "N_min = 1\n",
    "\n",
    "tree = tree_functions.get_tree(2)\n",
    "model = Model(Gurobi.Optimizer)\n",
    "\n",
    "# @variable(model,z[1:n,tree.leaves],Bin)\n",
    "# @variable(model,l[tree.leaves],Bin)\n",
    "# @variable(model,c[1:K,tree.leaves],Bin)\n",
    "# @variable(model,a[1:p,tree.branches],Bin)\n",
    "@variable(model,d[tree.branches],Bin)\n",
    "# @variable(model,b[tree.branches],Bin)\n",
    "\n",
    "\n",
    "# @constraint(model,[t=tree.leaves,k=1:K],Lₜ[t] ≥ Nₜ[t] - Nₖₜ[k,t] - n*(1-cₖₜ[k,t]))\n",
    "# @constraint(model,[t=tree.leaves,k=1:K],Lₜ[t] ≤ Nₜ[t] - Nₖₜ[k,t] + n*cₖₜ[k,t])\n",
    "# @constraint(model,[t=tree.leaves],Lₜ[t] ≥ 0)\n",
    "\n",
    "# #TODO _______\n",
    "@constraint(model,[t=tree.leaves,k=1:K],Nₖₜ[k,t] = sum(z[i,t])) # for i:y_i=k\n",
    "\n",
    "# @constraint(model,[t=tree.leaves],Nₜ[t] = sum(z[:,t]))\n",
    "# @constraint(model,[t=tree.leaves],sum(c[:,t]) = l[t])\n",
    "# #TODO _______\n",
    "# @constraint(model,[i=1:n,t=tree.leaves,m]\n",
    "\n",
    "# @constraint(model,[i=1:n],sum(z[i,:]) = 1)\n",
    "# @constraint(model,[i=1:n,t=tree.leaves],z[i,t] ≤ l[t])\n",
    "# @constraint(model,[t=tree.leaves],sum(z[:,t]) ≥ N_min.*l[t])\n",
    "# @constraint(model,[t=tree.branches],sum(a[:,t]) = d[t])\n",
    "# @constraint(model,[t=tree.branches],0≤b[t]≤d[t])\n",
    "# #TODO _______DONE!\n",
    "@constraint(model,[t=tree.branches[2:end],p=tree_functions.get_parent(t)],d[t] <= d[p])\n",
    "\n",
    "# C = sum(d[t] for t in tree.branches)"
   ]
  },
  {
   "cell_type": "code",
   "execution_count": null,
   "metadata": {},
   "outputs": [],
   "source": []
  }
 ],
 "metadata": {
  "kernelspec": {
   "display_name": "Julia 1.5.3",
   "language": "julia",
   "name": "julia-1.5"
  },
  "language_info": {
   "file_extension": ".jl",
   "mimetype": "application/julia",
   "name": "julia",
   "version": "1.5.3"
  }
 },
 "nbformat": 4,
 "nbformat_minor": 4
}
